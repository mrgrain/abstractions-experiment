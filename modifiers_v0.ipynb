{
 "cells": [
  {
   "cell_type": "markdown",
   "metadata": {},
   "source": [
    "# Introducing: Feature modifiers"
   ]
  },
  {
   "cell_type": "markdown",
   "metadata": {},
   "source": [
    "## Basic example"
   ]
  },
  {
   "cell_type": "code",
   "execution_count": 6,
   "metadata": {},
   "outputs": [
    {
     "data": {},
     "execution_count": 6,
     "metadata": {},
     "output_type": "execute_result"
    },
    {
     "name": "stdout",
     "output_type": "stream",
     "text": [
      "Resources:\n",
      "  IncomingMessages:\n",
      "    Type: 'AWS::SNS::Topic'\n",
      "    Properties:\n",
      "      kmsMasterKeyId:\n",
      "        'Fn::GetAtt':\n",
      "          - TopicKeyB2E0C9CB\n",
      "          - Arn\n",
      "      topicName: ahk66af-IncomingMessages-EF9577EB.fifo\n",
      "      fifoTopic: true\n",
      "      contentBasedDeduplication: true\n",
      "  TopicKeyB2E0C9CB:\n",
      "    Type: 'AWS::KMS::Key'\n",
      "    Properties:\n",
      "      KeyPolicy:\n",
      "        Statement:\n",
      "          - Action: 'kms:*'\n",
      "            Effect: Allow\n",
      "            Principal:\n",
      "              AWS:\n",
      "                'Fn::Join':\n",
      "                  - ''\n",
      "                  - - 'arn:'\n",
      "                    - Ref: 'AWS::Partition'\n",
      "                    - ':iam::'\n",
      "                    - Ref: 'AWS::AccountId'\n",
      "                    - ':root'\n",
      "            Resource: '*'\n",
      "        Version: '2012-10-17'\n",
      "    UpdateReplacePolicy: Retain\n",
      "    DeletionPolicy: Retain\n",
      "\n"
     ]
    }
   ],
   "source": [
    "import { sns, kms, nb } from './lib/index.ts';\n",
    "\n",
    "const stack1 = nb.stack();\n",
    "\n",
    "const sourceTopic = new sns.L1Topic(stack1, \"IncomingMessages\");\n",
    "sns.encrypt(sourceTopic, new kms.Key(stack1, \"TopicKey\"))\n",
    "sns.fifo(sourceTopic, {\n",
    "  contentBasedDeduplication: true,\n",
    "});\n",
    "\n",
    "nb.print(stack1);"
   ]
  },
  {
   "cell_type": "markdown",
   "metadata": {},
   "source": [
    "## Add a Queue as a target for the Topic"
   ]
  },
  {
   "cell_type": "markdown",
   "metadata": {},
   "source": [
    "### Excursion: Syntax variations\n",
    "\n",
    "This uses a variation of the modifiers syntax: Instead of directly calling the modifier, we pass it to the `with()` method of the resource construct.s\n",
    "The downside of it is limited support in code auto-completion. `with()` would accept *any* modifier, so we can't suggest which modifier to use and what parameters the modifier supports. A workaround would be to use overloads in the method definition. With overloads, we get a list of expected modifiers and once the first parameter is provided, the auto-completion appears to be able to pick the right one.\n",
    "\n",
    "<img src=\"images/modifiers_with_help.png\" width=\"400\" class=\"blog-image\">\n",
    "\n",
    "Line 8 uses yet another alternative syntax, which improves code auto-completion. These additional methods would have to be codegen'd and would only support built-in modifiers.\n",
    "\n",
    "<img src=\"images/modifiers_use_help.png\" width=\"450\" class=\"blog-image\">\n",
    "\n",
    "### Inspired by pipeline operator\n",
    "\n",
    "The syntax for these is inspired by the *tc39 pipeline operator proposal*. Any variation of it could be considered going forward. Crucially, it is syntactic sugar on top of the base implementation of a function that takes a subject construct as first parameter. See [this article implementing the pipeline operator proposal](https://dev.to/nexxeln/implementing-the-pipe-operator-in-typescript-30ip) for further information."
   ]
  },
  {
   "cell_type": "code",
   "execution_count": 21,
   "metadata": {},
   "outputs": [
    {
     "data": {},
     "execution_count": 21,
     "metadata": {},
     "output_type": "execute_result"
    },
    {
     "name": "stdout",
     "output_type": "stream",
     "text": [
      "Resources:\n",
      "  AcceptedMessages:\n",
      "    Type: 'AWS::SQS::Queue'\n",
      "    Properties:\n",
      "      visibilityTimeout: 300\n",
      "      kmsMasterKeyId: alias/aws/sqs\n",
      "  AcceptedMessagesPolicyA013B031:\n",
      "    Type: 'AWS::SQS::QueuePolicy'\n",
      "    Properties:\n",
      "      PolicyDocument:\n",
      "        Statement:\n",
      "          - Action: 'sqs:*'\n",
      "            Condition:\n",
      "              Bool:\n",
      "                'aws:SecureTransport': 'false'\n",
      "            Effect: Deny\n",
      "            Principal:\n",
      "              AWS: '*'\n",
      "            Resource:\n",
      "              'Fn::GetAtt':\n",
      "                - AcceptedMessages\n",
      "                - Arn\n",
      "        Version: '2012-10-17'\n",
      "      Queues: []\n",
      "\n"
     ]
    }
   ],
   "source": [
    "import { cdk, sqs, nb } from './lib/index.ts';\n",
    "\n",
    "const stack2 = nb.stack();\n",
    "\n",
    "const targetQueue = new sqs.L1Queue(stack2, \"AcceptedMessages\")\n",
    "  .with(sqs.visibilityTimeout, cdk.Duration.seconds(300))\n",
    "  .with(sqs.enforceSSL)\n",
    "  .useEncrypt();\n",
    "\n",
    "nb.print(stack2);"
   ]
  }
 ],
 "metadata": {
  "kernelspec": {
   "display_name": "Deno",
   "language": "typescript",
   "name": "deno"
  },
  "language_info": {
   "file_extension": ".ts",
   "mimetype": "text/x.typescript",
   "name": "typescript",
   "nb_converter": "script",
   "pygments_lexer": "typescript",
   "version": "5.2.2"
  },
  "orig_nbformat": 4
 },
 "nbformat": 4,
 "nbformat_minor": 2
}
