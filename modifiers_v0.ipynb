{
 "cells": [
  {
   "cell_type": "markdown",
   "metadata": {},
   "source": [
    "# Introducing: Feature modifiers\n",
    "\n",
    "With the current L2 Constructs, all feature abstractions are enclosed within the respective Construct. Take a `Topic` as an example: The L2 includes an abstraction to help with FIFO Topics. It codifies the dependency between some low-level CFN properties and the topic name having to end in `.fifo`. This abstraction is currently *only* available to users of the L2. If I want to use this feature, I *have to* use the L2. This is problematic in scenarios where users are interested in *some*, but not *all* of the features of an L2.\n",
    "\n",
    "The basic idea behind feature modifiers is to break-out these abstractions from being tightly coupled to an L2. They should be usable with any `Topic`, or - going even further - with any Construct tree that includes `n` `Topics` (with `n >= 1`)."
   ]
  },
  {
   "cell_type": "markdown",
   "metadata": {},
   "source": [
    "## Basic example: Topic\n",
    "\n",
    "Taking the aforementioned, the current L2 features can be re-created with these two feature modifiers: `sns.encrypt` to handle encryption and `sns.fifo` to help with FIFO topics."
   ]
  },
  {
   "cell_type": "code",
   "execution_count": null,
   "metadata": {},
   "outputs": [],
   "source": [
    "import './lib/setup.ts';\n",
    "\n",
    "const topicKey = new kms.Key(stack, \"TopicKey\");\n",
    "const sourceTopic = new sns.L1Topic(stack, \"IncomingMessages\");\n",
    "sns.encrypt(sourceTopic, topicKey)\n",
    "sns.fifo(sourceTopic, {\n",
    "  contentBasedDeduplication: true,\n",
    "});\n",
    "\n",
    "print(sourceTopic, topicKey);"
   ]
  },
  {
   "cell_type": "markdown",
   "metadata": {},
   "source": [
    "## Add a Queue as a target for the Topic"
   ]
  },
  {
   "cell_type": "markdown",
   "metadata": {},
   "source": [
    "To expend our example, we add a `Queue` as a target for a later added `TopicSubscription`. Let's use this new resources to look at possible syntax variations.\n",
    "\n",
    "### Excursion: Syntax variations\n",
    "\n",
    "This uses a variation of the modifiers syntax: Instead of directly calling the modifier, we pass it to the `with()` method of the resource construct.s\n",
    "The downside of it is limited support in code auto-completion. `with()` would accept *any* modifier, so we can't suggest which modifier to use and what parameters the modifier supports. A workaround would be to use overloads in the method definition. With overloads, we get a list of expected modifiers and once the first parameter is provided, the auto-completion appears to be able to pick the right one.\n",
    "\n",
    "<img src=\"images/modifiers_with_help.png\" width=\"400\" class=\"blog-image\">\n",
    "\n",
    "Line 8 uses yet another alternative syntax, which improves code auto-completion. These additional methods would have to be codegen'd and would only support built-in modifiers.\n",
    "\n",
    "<img src=\"images/modifiers_use_help.png\" width=\"450\" class=\"blog-image\">\n",
    "\n",
    "### Inspired by pipeline operator\n",
    "\n",
    "The syntax for these is inspired by the *tc39 pipeline operator proposal*. Any variation of it could be considered going forward. Crucially, it is syntactic sugar on top of the base implementation of a function that takes a construct as first parameter. See [this article implementing the pipeline operator proposal](https://dev.to/nexxeln/implementing-the-pipe-operator-in-typescript-30ip) for further information."
   ]
  },
  {
   "cell_type": "code",
   "execution_count": null,
   "metadata": {},
   "outputs": [],
   "source": [
    "const targetQueue = new sqs.L1Queue(stack, \"AcceptedMessages\")\n",
    "  .with(sqs.visibilityTimeout, cdk.Duration.seconds(300))\n",
    "  .with(sqs.enforceSSL)\n",
    "  .useEncryptWithKey();\n",
    "\n",
    "print(targetQueue);"
   ]
  },
  {
   "cell_type": "markdown",
   "metadata": {},
   "source": [
    "### Create a DLQ for the Subscription\n",
    "\n",
    "`TopicSubscription`s support dead-letter queues for undelivered messages. Let's create an other queue for this purpose, using yet another syntax variation.\n",
    "\n",
    "### Higher-order programming\n",
    "\n",
    "So far, the modifier type has been a bit messy. While it generally takes \"a thing\" as the first parameter, it's wild and undefined what comes after it: Sometimes it's a single value like a `Duration`, at other times we have multiple values (some of which are optional) and even a property bag!\n",
    "\n",
    "One way to get around this inconsistency, is higher-order programming. With HOP we can strictly define modifiers as taking a single *subject* that executes the modification. Because we still need the ability to pass in values, our \"feature modifiers\" are now a factory instead: For a given encryption `Key`, make me a feature modifier that encrypts the `Queue` with it."
   ]
  },
  {
   "cell_type": "code",
   "execution_count": null,
   "metadata": {},
   "outputs": [],
   "source": [
    "const dlq = new sqs.L1Queue(stack, \"FilteredMessages\")\n",
    "  .with(sqs.encryptWithKeyStrict(new kms.Key(stack, \"FilteredQueueKey\")));\n",
    "\n",
    "print(dlq);"
   ]
  },
  {
   "cell_type": "markdown",
   "metadata": {},
   "source": [
    "## Vocabulary\n",
    "\n",
    "We have already established, that modifiers operate on a *subject*. If we lean into this analogy to the English language grammar, we can get inspiration for further terminology. Note this is not aiming to be an accurate mapping to grammar rules. Natural languages is weird and beautiful and ambagious, whereas code should be clear and unambiguous.\n",
    "\n",
    "**Subject**\n",
    "\n",
    "The Construct we are operating with. When multiple Constructs are involved, this is the main one. In a localized Construct tree, it would be the parent. Usually these are CFN Resources or L2s: `Topic`, `Queue` but it can be more complex like an `App`.\n",
    "\n",
    "**Predicate** or **Action**\n",
    "\n",
    "The modifier itself. It expresses an action or being. `encrypt()` is an example for action, `fifo()` for being. With this in mind, we could change `visibilityTimeout()` to an arguably more friendly `visibleFor()`.\n",
    "\n",
    "**Adverb** (⚠️ Not happy with this, modifiers would be better but than the whole concept needs to be renamed)\n",
    "\n",
    "In natural language, adverbs are used to further modify or describe the predicate. The `contentBasedDeduplication` property is a further description of the `fifo()` being of `Topic`. The duration of `visibleFor()` further modifies how long messages are visible for. Now it becomes more obvious why a higher-order modifier form could be considered as more pure than other variations: Arguments are only used in the context they are relevant for.\n",
    "\n",
    "**Objects**\n",
    "\n",
    "Any other Constructs that are part of the action. To `encrypt()` a `Topic` we need a `Key`. So the `Key` becomes the *object*. "
   ]
  },
  {
   "cell_type": "markdown",
   "metadata": {},
   "source": [
    "❌ This implementation of `L1Subscription` without receiving a `Topic` and `Queue` at construction time doesn't work. Both `TopicArn` and `Protocol` are required."
   ]
  },
  {
   "cell_type": "code",
   "execution_count": null,
   "metadata": {},
   "outputs": [],
   "source": [
    "const topic2queue = new sub.L1Subscription(stack, \"FilterMessages\")\n",
    "  .with(sub.connect(sourceTopic, targetQueue))\n",
    "  .with(sub.deadLetterQueue(dlq))\n",
    "  .with(sub.filterMessages({\n",
    "    color: sns.SubscriptionFilter.stringFilter({\n",
    "      allowlist: [\"red\", \"orange\"],\n",
    "      matchPrefixes: [\"bl\"],\n",
    "    }),\n",
    "  }));\n",
    "\n",
    "print(topic2queue, targetQueue.policy);"
   ]
  },
  {
   "cell_type": "markdown",
   "metadata": {},
   "source": [
    "## Beyond L1s\n",
    "\n",
    "We now have defined the subject as the Construct we are operating with. But so far all of our subjects have L1 Resources - that's only a subset of Constructs. Taking a step back, why not allow any modifier to be applied to any Construct? There will be some drawbacks in regards to typing, but we can work around this with additional syntax.\n",
    "\n",
    "The following examples operate on a Stack, but they can work with any Construct tree. Crucially this includes L2- and L3-like Constructs. With this, we now really have broken up the closed nature of current L2s."
   ]
  },
  {
   "cell_type": "code",
   "execution_count": null,
   "metadata": {},
   "outputs": [],
   "source": [
    "// Apply modifier to any construct tree\n",
    "sqs.enforceSSL(stack)\n",
    "\n",
    "// Or maybe this?\n",
    "const visibleFor500 = any(sqs.L1Queue.isL1Queue, sqs.visibilityTimeoutStrict(cdk.Duration.seconds(500)));\n",
    "visibleFor500(stack);\n",
    "\n",
    "// Or maybe something like this:\n",
    "// any(sqs.L1Queue.isL1Queue).of(stack).must(sqs.enforceSSL);\n",
    "\n",
    "printOnly(targetQueue);\n",
    "print(dlq);"
   ]
  },
  {
   "cell_type": "markdown",
   "metadata": {},
   "source": [
    "## Beyond Constructs"
   ]
  },
  {
   "cell_type": "code",
   "execution_count": null,
   "metadata": {},
   "outputs": [],
   "source": [
    "const graphProcessed = new cw.L1GraphWidget(stack, 'ProcessedGraph')\n",
    "  .with(cw.title('Processed Messages'))\n",
    "  .with(cw.onLeft(sourceTopic.metricNumberOfMessagesPublished()))\n",
    "  .with(cw.onLeft(targetQueue.metricNumberOfMessagesReceived()));\n",
    "\n",
    "const graphFiltered = new cw.L1GraphWidget(stack, 'FilteredGraph')\n",
    "  .with(cw.title('Filtered Messages'))\n",
    "  .with(cw.onLeft(sourceTopic.metricNumberOfNotificationsFilteredOut()))\n",
    "  .with(cw.onLeft(dlq.metricNumberOfMessagesReceived()));\n",
    "\n",
    "const dashboard = new cw.L1Dashboard(this, \"Dashboard\")\n",
    "  .with(cw.widget(graphProcessed))\n",
    "  .with(cw.widget(graphFiltered));\n",
    "\n",
    "print(dashboard);"
   ]
  }
 ],
 "metadata": {
  "kernelspec": {
   "display_name": "Deno",
   "language": "typescript",
   "name": "deno"
  },
  "language_info": {
   "file_extension": ".ts",
   "mimetype": "text/x.typescript",
   "name": "typescript",
   "nb_converter": "script",
   "pygments_lexer": "typescript",
   "version": "5.2.2"
  },
  "orig_nbformat": 4
 },
 "nbformat": 4,
 "nbformat_minor": 2
}
